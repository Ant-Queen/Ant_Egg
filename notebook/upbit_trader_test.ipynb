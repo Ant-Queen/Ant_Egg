{
 "cells": [
  {
   "cell_type": "code",
   "execution_count": 12,
   "id": "overall-music",
   "metadata": {},
   "outputs": [],
   "source": [
    "import os\n",
    "os.chdir('../')"
   ]
  },
  {
   "cell_type": "markdown",
   "id": "possible-envelope",
   "metadata": {},
   "source": [
    "### 현재 디렉토리가 smtm 프로젝트 root로 설정되었는지 확인"
   ]
  },
  {
   "cell_type": "code",
   "execution_count": 13,
   "id": "literary-thriller",
   "metadata": {},
   "outputs": [
    {
     "name": "stdout",
     "output_type": "stream",
     "text": [
      "현재 디렉토리  c:\\Users\\gorlt\\3D Objects\n"
     ]
    }
   ],
   "source": [
    "print(\"현재 디렉토리 \" , os.getcwd())"
   ]
  },
  {
   "cell_type": "code",
   "execution_count": 14,
   "id": "suitable-picture",
   "metadata": {},
   "outputs": [],
   "source": [
    "import os\n",
    "import time\n",
    "from datetime import datetime\n",
    "from ant import UpbitTrader\n",
    "ISO_DATEFORMAT = \"%Y-%m-%dT%H:%M:%S\""
   ]
  },
  {
   "cell_type": "markdown",
   "id": "separate-branch",
   "metadata": {},
   "source": [
    "### 초기화"
   ]
  },
  {
   "cell_type": "code",
   "execution_count": 15,
   "id": "streaming-arkansas",
   "metadata": {},
   "outputs": [
    {
     "name": "stderr",
     "output_type": "stream",
     "text": [
      "2023-04-23 06:10:43,309 DEBUG   UpbitTrader-Worker - Worker[UpbitTrader-Worker:1552] WAIT ==========\n"
     ]
    }
   ],
   "source": [
    "utr = UpbitTrader(budget=10000)"
   ]
  },
  {
   "cell_type": "markdown",
   "id": "light-definition",
   "metadata": {},
   "source": [
    "### 계좌 조회"
   ]
  },
  {
   "cell_type": "code",
   "execution_count": 16,
   "id": "tracked-limitation",
   "metadata": {},
   "outputs": [
    {
     "name": "stderr",
     "output_type": "stream",
     "text": [
      "2023-04-23 06:10:44,922 DEBUG          UpbitTrader - account info {'balance': 10000, 'asset': {'BTC': (0, 0)}, 'quote': {'BTC': 36870000.0}, 'date_time': '2023-04-23T06:10:44'}\n"
     ]
    },
    {
     "data": {
      "text/plain": [
       "{'balance': 10000,\n",
       " 'asset': {'BTC': (0, 0)},\n",
       " 'quote': {'BTC': 36870000.0},\n",
       " 'date_time': '2023-04-23T06:10:44'}"
      ]
     },
     "execution_count": 16,
     "metadata": {},
     "output_type": "execute_result"
    }
   ],
   "source": [
    "utr.get_account_info()"
   ]
  },
  {
   "cell_type": "markdown",
   "id": "advanced-majority",
   "metadata": {},
   "source": [
    "### 매수 주문"
   ]
  },
  {
   "cell_type": "code",
   "execution_count": 17,
   "id": "bottom-perfume",
   "metadata": {},
   "outputs": [],
   "source": [
    "request = {\n",
    "    'id': 'UTR_TEST.1234', \n",
    "    'type': 'buy',\n",
    "    'price': 35000000, \n",
    "    'amount': 0.0002, \n",
    "}"
   ]
  },
  {
   "cell_type": "code",
   "execution_count": 18,
   "id": "finnish-reputation",
   "metadata": {},
   "outputs": [],
   "source": [
    "def callback(info):\n",
    "    print(\"callback!\")\n",
    "    print(info)"
   ]
  },
  {
   "cell_type": "code",
   "execution_count": null,
   "id": "aquatic-occurrence",
   "metadata": {},
   "outputs": [
    {
     "name": "stderr",
     "output_type": "stream",
     "text": [
      "2023-04-23 06:11:39,356 DEBUG   UpbitTrader-Worker - Worker[UpbitTrader-Worker:1552] GO ----------\n",
      "2023-04-23 06:11:39,358  INFO          UpbitTrader - ORDER ##### BUY\n",
      "2023-04-23 06:11:39,363  INFO          UpbitTrader - KRW-BTC, price: 35000000, volume: 0.0002\n"
     ]
    },
    {
     "name": "stderr",
     "output_type": "stream",
     "text": [
      "2023-04-23 06:11:39,916 DEBUG          UpbitTrader - request inserted {'uuid': '5c9be9a0-4b03-44a9-a56a-593b3bfee24e', 'callback': <function callback at 0x000001FDE8B64040>, 'result': {'state': 'requested', 'request': {'id': 'UTR_TEST.1234', 'type': 'buy', 'price': 35000000, 'amount': 0.0002}, 'type': 'buy', 'price': 35000000, 'amount': 0.0002, 'msg': 'success'}}\n",
      "2023-04-23 06:11:39,923 DEBUG   UpbitTrader-Worker - Worker[UpbitTrader-Worker:1552] WAIT ==========\n"
     ]
    },
    {
     "name": "stdout",
     "output_type": "stream",
     "text": [
      "callback!\n",
      "{'state': 'requested', 'request': {'id': 'UTR_TEST.1234', 'type': 'buy', 'price': 35000000, 'amount': 0.0002}, 'type': 'buy', 'price': 35000000, 'amount': 0.0002, 'msg': 'success'}\n"
     ]
    },
    {
     "name": "stderr",
     "output_type": "stream",
     "text": [
      "2023-04-23 06:11:44,930 DEBUG   UpbitTrader-Worker - Worker[UpbitTrader-Worker:1552] GO ----------\n",
      "2023-04-23 06:11:45,140 DEBUG          UpbitTrader - waiting order count 1\n",
      "2023-04-23 06:11:45,146 DEBUG          UpbitTrader - waiting order {'uuid': '5c9be9a0-4b03-44a9-a56a-593b3bfee24e', 'callback': <function callback at 0x000001FDE8B64040>, 'result': {'state': 'requested', 'request': {'id': 'UTR_TEST.1234', 'type': 'buy', 'price': 35000000, 'amount': 0.0002}, 'type': 'buy', 'price': 35000000, 'amount': 0.0002, 'msg': 'success'}}\n",
      "2023-04-23 06:11:45,151 DEBUG          UpbitTrader - After update, waiting order count 1\n",
      "2023-04-23 06:11:45,161 DEBUG   UpbitTrader-Worker - Worker[UpbitTrader-Worker:1552] WAIT ==========\n",
      "2023-04-23 06:11:50,163 DEBUG   UpbitTrader-Worker - Worker[UpbitTrader-Worker:1552] GO ----------\n",
      "2023-04-23 06:11:50,463 DEBUG          UpbitTrader - waiting order count 1\n",
      "2023-04-23 06:11:50,470 DEBUG          UpbitTrader - waiting order {'uuid': '5c9be9a0-4b03-44a9-a56a-593b3bfee24e', 'callback': <function callback at 0x000001FDE8B64040>, 'result': {'state': 'requested', 'request': {'id': 'UTR_TEST.1234', 'type': 'buy', 'price': 35000000, 'amount': 0.0002}, 'type': 'buy', 'price': 35000000, 'amount': 0.0002, 'msg': 'success'}}\n",
      "2023-04-23 06:11:50,479 DEBUG          UpbitTrader - After update, waiting order count 1\n",
      "2023-04-23 06:11:50,489 DEBUG   UpbitTrader-Worker - Worker[UpbitTrader-Worker:1552] WAIT ==========\n",
      "2023-04-23 06:11:55,494 DEBUG   UpbitTrader-Worker - Worker[UpbitTrader-Worker:1552] GO ----------\n",
      "2023-04-23 06:11:55,686 DEBUG          UpbitTrader - waiting order count 1\n",
      "2023-04-23 06:11:55,689 DEBUG          UpbitTrader - waiting order {'uuid': '5c9be9a0-4b03-44a9-a56a-593b3bfee24e', 'callback': <function callback at 0x000001FDE8B64040>, 'result': {'state': 'requested', 'request': {'id': 'UTR_TEST.1234', 'type': 'buy', 'price': 35000000, 'amount': 0.0002}, 'type': 'buy', 'price': 35000000, 'amount': 0.0002, 'msg': 'success'}}\n",
      "2023-04-23 06:11:55,693 DEBUG          UpbitTrader - After update, waiting order count 1\n",
      "2023-04-23 06:11:55,696 DEBUG   UpbitTrader-Worker - Worker[UpbitTrader-Worker:1552] WAIT ==========\n"
     ]
    }
   ],
   "source": [
    "utr.send_request([request], callback)"
   ]
  },
  {
   "cell_type": "markdown",
   "id": "special-albania",
   "metadata": {},
   "source": [
    "### 주문 취소"
   ]
  },
  {
   "cell_type": "code",
   "execution_count": 20,
   "id": "phantom-mouse",
   "metadata": {},
   "outputs": [
    {
     "name": "stderr",
     "output_type": "stream",
     "text": [
      "2023-04-23 06:11:58,455  INFO          UpbitTrader - CANCEL ORDER ##### 5c9be9a0-4b03-44a9-a56a-593b3bfee24e\n",
      "2023-04-23 06:11:58,656 DEBUG          UpbitTrader - canceled order {'uuid': '5c9be9a0-4b03-44a9-a56a-593b3bfee24e', 'side': 'bid', 'ord_type': 'limit', 'price': '35000000', 'state': 'wait', 'market': 'KRW-BTC', 'created_at': '2023-04-23T06:11:29+09:00', 'volume': '0.0002', 'remaining_volume': '0.0002', 'reserved_fee': '3.5', 'remaining_fee': '3.5', 'paid_fee': '0', 'locked': '7003.5', 'executed_volume': '0', 'trades_count': 0}\n"
     ]
    },
    {
     "name": "stdout",
     "output_type": "stream",
     "text": [
      "callback!\n",
      "{'state': 'done', 'request': {'id': 'UTR_TEST.1234', 'type': 'buy', 'price': 35000000, 'amount': 0.0002}, 'type': 'buy', 'price': 35000000.0, 'amount': 0.0, 'msg': 'success', 'date_time': '2023-04-23T06:11:29'}\n"
     ]
    },
    {
     "name": "stderr",
     "output_type": "stream",
     "text": [
      "2023-04-23 06:12:00,704 DEBUG   UpbitTrader-Worker - Worker[UpbitTrader-Worker:1552] GO ----------\n",
      "2023-04-23 06:12:00,710 DEBUG   UpbitTrader-Worker - Worker[UpbitTrader-Worker:1552] WAIT ==========\n"
     ]
    }
   ],
   "source": [
    "utr.cancel_request(request[\"id\"])"
   ]
  },
  {
   "cell_type": "code",
   "execution_count": null,
   "id": "pharmaceutical-inspector",
   "metadata": {},
   "outputs": [],
   "source": []
  }
 ],
 "metadata": {
  "kernelspec": {
   "display_name": "Python 3",
   "language": "python",
   "name": "python3"
  },
  "language_info": {
   "codemirror_mode": {
    "name": "ipython",
    "version": 3
   },
   "file_extension": ".py",
   "mimetype": "text/x-python",
   "name": "python",
   "nbconvert_exporter": "python",
   "pygments_lexer": "ipython3",
   "version": "3.10.8"
  }
 },
 "nbformat": 4,
 "nbformat_minor": 5
}
