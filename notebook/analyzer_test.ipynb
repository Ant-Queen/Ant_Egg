{
 "cells": [
  {
   "cell_type": "code",
   "execution_count": 7,
   "id": "municipal-classic",
   "metadata": {},
   "outputs": [],
   "source": [
    "import os\n",
    "os.chdir('../')"
   ]
  },
  {
   "cell_type": "markdown",
   "id": "existing-authorization",
   "metadata": {},
   "source": [
    "### 현재 디렉토리가 smtm 프로젝트 root로 설정되었는지 확인"
   ]
  },
  {
   "cell_type": "code",
   "execution_count": 8,
   "id": "apart-eclipse",
   "metadata": {},
   "outputs": [
    {
     "name": "stdout",
     "output_type": "stream",
     "text": [
      "현재 디렉토리  c:\\Users\\gorlt\\3D Objects\n"
     ]
    }
   ],
   "source": [
    "print(\"현재 디렉토리 \" , os.getcwd())"
   ]
  },
  {
   "cell_type": "markdown",
   "id": "drawn-layout",
   "metadata": {},
   "source": [
    "#### 초기화 -  초기 자산 정보와 자산 정보 업데이트 함수 설정, 기준점 생성"
   ]
  },
  {
   "cell_type": "code",
   "execution_count": 9,
   "id": "virgin-ballet",
   "metadata": {},
   "outputs": [
    {
     "name": "stderr",
     "output_type": "stream",
     "text": [
      "2023-04-25 01:39:09,377 DEBUG             Analyzer - make_score_record new_info {'balance': 50000.0, 'asset': {}, 'quote': {'KRW-BTC': 26145000.0}, 'date_time': '2020-12-21T01:13:00'}\n",
      "2023-04-25 01:39:09,379  INFO             Analyzer - cumulative_return 50000 -> 50000.0, 0%\n"
     ]
    },
    {
     "name": "stdout",
     "output_type": "stream",
     "text": [
      "create output folder\n"
     ]
    }
   ],
   "source": [
    "from smtm import Analyzer\n",
    "analyzer = Analyzer()\n",
    "\n",
    "# asset_info 변수로 함수의 반환값을 설정하기 위한 테스트용 함수\n",
    "def test_update_info_func():\n",
    "    asset_info = {\n",
    "        \"balance\": 50000,\n",
    "        \"asset\": {},\n",
    "        \"quote\": {\"KRW-BTC\": 26145000.0},\n",
    "        \"date_time\": \"2020-12-21T01:13:00\",\n",
    "    }\n",
    "    return asset_info\n",
    "\n",
    "analyzer.initialize(test_update_info_func)\n",
    "analyzer.make_start_point()"
   ]
  },
  {
   "cell_type": "markdown",
   "id": "accurate-circumstances",
   "metadata": {},
   "source": [
    "#### put_trading_info가 호출된 후에 info_list가 어떻게 업데이트 되었는지 확인"
   ]
  },
  {
   "cell_type": "code",
   "execution_count": 10,
   "id": "interstate-bahrain",
   "metadata": {},
   "outputs": [
    {
     "name": "stderr",
     "output_type": "stream",
     "text": [
      "2023-04-25 01:39:11,935 DEBUG             Analyzer - make_score_record new_info {'balance': 50000.0, 'asset': {}, 'quote': {'KRW-BTC': 26145000.0}, 'date_time': '2020-12-21T01:13:00'}\n",
      "2023-04-25 01:39:11,939  INFO             Analyzer - cumulative_return 50000 -> 50000.0, 0%\n"
     ]
    },
    {
     "data": {
      "text/plain": [
       "[{'market': 'KRW-BTC',\n",
       "  'date_time': '2020-12-21T01:13:00',\n",
       "  'opening_price': 26155000.0,\n",
       "  'high_price': 26158000.0,\n",
       "  'low_price': 26132000.0,\n",
       "  'closing_price': 26145000.0,\n",
       "  'acc_price': 116448937.40051,\n",
       "  'acc_volume': 4.45311465,\n",
       "  'kind': 0}]"
      ]
     },
     "execution_count": 10,
     "metadata": {},
     "output_type": "execute_result"
    }
   ],
   "source": [
    "info = {\n",
    "    \"market\": \"KRW-BTC\",\n",
    "    \"date_time\": \"2020-12-21T01:13:00\",\n",
    "    \"opening_price\": 26155000.0,\n",
    "    \"high_price\": 26158000.0,\n",
    "    \"low_price\": 26132000.0,\n",
    "    \"closing_price\": 26145000.0,\n",
    "    \"acc_price\": 116448937.40051,\n",
    "    \"acc_volume\": 4.45311465,\n",
    "}\n",
    "analyzer.put_trading_info(info)\n",
    "analyzer.info_list"
   ]
  },
  {
   "cell_type": "markdown",
   "id": "involved-peeing",
   "metadata": {},
   "source": [
    "#### put_requests 가 호출된 후에 request_list가 어떻게 업데이트 되었는지 확인"
   ]
  },
  {
   "cell_type": "code",
   "execution_count": 11,
   "id": "adverse-aquatic",
   "metadata": {},
   "outputs": [
    {
     "data": {
      "text/plain": [
       "[{'id': '1621767063.373',\n",
       "  'type': 'buy',\n",
       "  'price': 26145000.0,\n",
       "  'amount': 0.0004,\n",
       "  'date_time': '2020-12-21T01:13:00',\n",
       "  'kind': 1}]"
      ]
     },
     "execution_count": 11,
     "metadata": {},
     "output_type": "execute_result"
    }
   ],
   "source": [
    "requests = [\n",
    "    {\n",
    "        \"id\": \"1621767063.373\",\n",
    "        \"type\": \"buy\",\n",
    "        \"price\": 26145000.0,\n",
    "        \"amount\": 0.0004,\n",
    "        \"date_time\": \"2020-12-21T01:13:00\",\n",
    "    }\n",
    "]\n",
    "analyzer.put_requests(requests)\n",
    "analyzer.request_list"
   ]
  },
  {
   "cell_type": "markdown",
   "id": "bronze-carolina",
   "metadata": {},
   "source": [
    "#### put_result 가 호출된 후에 result_list가 어떻게 업데이트 되었는지 확인"
   ]
  },
  {
   "cell_type": "code",
   "execution_count": 12,
   "id": "gentle-skill",
   "metadata": {},
   "outputs": [
    {
     "name": "stderr",
     "output_type": "stream",
     "text": [
      "2023-04-25 01:39:16,055 DEBUG             Analyzer - make_score_record new_info {'balance': 50000.0, 'asset': {}, 'quote': {'KRW-BTC': 26145000.0}, 'date_time': '2020-12-21T01:13:00'}\n",
      "2023-04-25 01:39:16,056  INFO             Analyzer - cumulative_return 50000 -> 50000.0, 0%\n"
     ]
    },
    {
     "data": {
      "text/plain": [
       "[{'request': {'id': '1621767063.373',\n",
       "   'type': 'buy',\n",
       "   'price': 26145000.0,\n",
       "   'amount': 0.0004,\n",
       "   'date_time': '2020-12-21T01:13:00'},\n",
       "  'type': 'buy',\n",
       "  'price': 26145000.0,\n",
       "  'amount': 0.0004,\n",
       "  'msg': 'success',\n",
       "  'balance': 39537,\n",
       "  'state': 'done',\n",
       "  'date_time': '2020-12-21T01:13:00',\n",
       "  'kind': 2}]"
      ]
     },
     "execution_count": 12,
     "metadata": {},
     "output_type": "execute_result"
    }
   ],
   "source": [
    "result = {\n",
    "    \"request\": {\n",
    "        \"id\": \"1621767063.373\",\n",
    "        \"type\": \"buy\",\n",
    "        \"price\": 26145000.0,\n",
    "        \"amount\": 0.0004,\n",
    "        \"date_time\": \"2020-12-21T01:13:00\",\n",
    "    },\n",
    "    \"type\": \"buy\",\n",
    "    \"price\": 26145000.0,\n",
    "    \"amount\": 0.0004,\n",
    "    \"msg\": \"success\",\n",
    "    \"balance\": 39537,\n",
    "    \"state\": \"done\",\n",
    "    \"date_time\": \"2020-12-21T01:13:00\",\n",
    "}\n",
    "analyzer.put_result(result)\n",
    "analyzer.result_list"
   ]
  },
  {
   "cell_type": "markdown",
   "id": "above-trust",
   "metadata": {},
   "source": [
    "#### test_update_info_func을 통해 전달된 자산 정보에 따라 asset_info_list가 어떻게 업데이트 되는지 확인"
   ]
  },
  {
   "cell_type": "code",
   "execution_count": 13,
   "id": "attempted-calculator",
   "metadata": {},
   "outputs": [
    {
     "name": "stderr",
     "output_type": "stream",
     "text": [
      "2023-04-25 01:39:18,842 DEBUG             Analyzer - make_score_record new_info {'balance': 39537.0, 'asset': {'KRW-BTC': (26145000.0, 0.0004)}, 'quote': {'KRW-BTC': 26132000.0}, 'date_time': '2020-12-21T01:14:00'}\n",
      "2023-04-25 01:39:18,846 DEBUG             Analyzer - yield record KRW-BTC, buy_avg: 26145000.0, 26132000.0, 0.0004, -0.05\n",
      "2023-04-25 01:39:18,848 DEBUG             Analyzer - price change ratio 26145000.0 -> 26132000.0, -0.05%\n",
      "2023-04-25 01:39:18,851  INFO             Analyzer - cumulative_return 50000 -> 49989.8, -0.02%\n"
     ]
    },
    {
     "data": {
      "text/plain": [
       "[{'balance': 50000.0,\n",
       "  'asset': {},\n",
       "  'quote': {'KRW-BTC': 26145000.0},\n",
       "  'date_time': '2020-12-21T01:13:00'},\n",
       " {'balance': 50000.0,\n",
       "  'asset': {},\n",
       "  'quote': {'KRW-BTC': 26145000.0},\n",
       "  'date_time': '2020-12-21T01:13:00'},\n",
       " {'balance': 50000.0,\n",
       "  'asset': {},\n",
       "  'quote': {'KRW-BTC': 26145000.0},\n",
       "  'date_time': '2020-12-21T01:13:00'},\n",
       " {'balance': 39537.0,\n",
       "  'asset': {'KRW-BTC': (26145000.0, 0.0004)},\n",
       "  'quote': {'KRW-BTC': 26132000.0},\n",
       "  'date_time': '2020-12-21T01:14:00'}]"
      ]
     },
     "execution_count": 13,
     "metadata": {},
     "output_type": "execute_result"
    }
   ],
   "source": [
    "def test_update_info_func():\n",
    "    asset_info = {\n",
    "        \"balance\": 39537,\n",
    "        \"asset\": {\"KRW-BTC\": (26145000.0, 0.0004)},\n",
    "        \"quote\": {\"KRW-BTC\": 26132000.0},\n",
    "        \"date_time\": \"2020-12-21T01:14:00\",\n",
    "    }\n",
    "    return asset_info\n",
    "\n",
    "analyzer.get_asset_info_func = test_update_info_func\n",
    "analyzer.update_asset_info()\n",
    "analyzer.asset_info_list"
   ]
  },
  {
   "cell_type": "markdown",
   "id": "circular-provider",
   "metadata": {},
   "source": [
    "#### 보고서 결과 확인, (시작 자산, 최종 자산, 기준 시점부터 누적 수익률, 기준 시점부터 보유 종목별 가격 변동률 딕셔너리)"
   ]
  },
  {
   "cell_type": "code",
   "execution_count": 14,
   "id": "coral-arctic",
   "metadata": {},
   "outputs": [
    {
     "name": "stderr",
     "output_type": "stream",
     "text": [
      "2023-04-25 01:39:21,191 DEBUG             Analyzer - make_score_record new_info {'balance': 39537.0, 'asset': {'KRW-BTC': (26145000.0, 0.0004)}, 'quote': {'KRW-BTC': 26132000.0}, 'date_time': '2020-12-21T01:14:00'}\n",
      "2023-04-25 01:39:21,197 DEBUG             Analyzer - yield record KRW-BTC, buy_avg: 26145000.0, 26132000.0, 0.0004, -0.05\n",
      "2023-04-25 01:39:21,200 DEBUG             Analyzer - price change ratio 26145000.0 -> 26132000.0, -0.05%\n",
      "2023-04-25 01:39:21,202  INFO             Analyzer - cumulative_return 50000 -> 49989.8, -0.02%\n",
      "2023-04-25 01:39:21,203  INFO             Analyzer - ### Return Report ===============================\n",
      "2023-04-25 01:39:21,205  INFO             Analyzer - Property                      50000 ->      49990\n",
      "2023-04-25 01:39:21,206  INFO             Analyzer - Gap                                           -10\n",
      "2023-04-25 01:39:21,209  INFO             Analyzer - Cumulative return                         -0.02 %\n",
      "2023-04-25 01:39:21,213  INFO             Analyzer - Price_change_ratio {'KRW-BTC': -0.05}\n"
     ]
    },
    {
     "data": {
      "text/plain": [
       "(50000, 49990, -0.02, {'KRW-BTC': -0.05}, None)"
      ]
     },
     "execution_count": 14,
     "metadata": {},
     "output_type": "execute_result"
    }
   ],
   "source": [
    "analyzer.get_return_report()"
   ]
  },
  {
   "cell_type": "code",
   "execution_count": null,
   "id": "permanent-links",
   "metadata": {},
   "outputs": [],
   "source": []
  }
 ],
 "metadata": {
  "kernelspec": {
   "display_name": "Python 3",
   "language": "python",
   "name": "python3"
  },
  "language_info": {
   "codemirror_mode": {
    "name": "ipython",
    "version": 3
   },
   "file_extension": ".py",
   "mimetype": "text/x-python",
   "name": "python",
   "nbconvert_exporter": "python",
   "pygments_lexer": "ipython3",
   "version": "3.10.8"
  }
 },
 "nbformat": 4,
 "nbformat_minor": 5
}
