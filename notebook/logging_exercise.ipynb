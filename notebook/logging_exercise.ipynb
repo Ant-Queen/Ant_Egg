{
 "cells": [
  {
   "cell_type": "markdown",
   "id": "chubby-assistant",
   "metadata": {},
   "source": [
    "### logging 기본 설정"
   ]
  },
  {
   "cell_type": "code",
   "execution_count": 1,
   "id": "ranging-february",
   "metadata": {},
   "outputs": [],
   "source": [
    "import logging\n",
    "\n",
    "stream_formatter = logging.Formatter(\n",
    "    fmt=\"%(asctime)s %(levelname)s - %(name)s - %(message)s\"\n",
    ")\n",
    "stream_handler = logging.StreamHandler()\n",
    "stream_handler.setLevel(logging.INFO)\n",
    "stream_handler.setFormatter(stream_formatter)"
   ]
  },
  {
   "cell_type": "markdown",
   "id": "written-consortium",
   "metadata": {},
   "source": [
    "### logging 사용법 - 설정된 레벨 보다 낮은 레벨은 출력되지 않는다"
   ]
  },
  {
   "cell_type": "code",
   "execution_count": 2,
   "id": "super-leather",
   "metadata": {},
   "outputs": [
    {
     "name": "stderr",
     "output_type": "stream",
     "text": [
      "2023-04-07 02:03:35,600 INFO - Log1 - info msg\n",
      "2023-04-07 02:03:35,601 WARNING - Log1 - warning msg\n",
      "2023-04-07 02:03:35,602 ERROR - Log1 - error msg\n"
     ]
    }
   ],
   "source": [
    "log = logging.getLogger(\"Log1\")\n",
    "log.addHandler(stream_handler)\n",
    "\n",
    "log.setLevel(logging.DEBUG)\n",
    "log.debug(\"debug msg\")\n",
    "log.info(\"info msg\")\n",
    "log.warning(\"warning msg\")\n",
    "log.error(\"error msg\")"
   ]
  },
  {
   "cell_type": "markdown",
   "id": "devoted-rubber",
   "metadata": {},
   "source": [
    "### logger에 핸들러를 2개 붙일 수 있다"
   ]
  },
  {
   "cell_type": "code",
   "execution_count": 3,
   "id": "exotic-bibliography",
   "metadata": {},
   "outputs": [],
   "source": [
    "stream_formatter2 = logging.Formatter(\n",
    "    fmt=\"Handler 2 :: %(levelname)s - %(name)s - %(message)s\"\n",
    ")\n",
    "stream_handler2 = logging.StreamHandler()\n",
    "stream_handler2.setLevel(logging.WARNING)\n",
    "stream_handler2.setFormatter(stream_formatter2)"
   ]
  },
  {
   "cell_type": "code",
   "execution_count": 4,
   "id": "tracked-juvenile",
   "metadata": {},
   "outputs": [
    {
     "name": "stderr",
     "output_type": "stream",
     "text": [
      "2023-04-07 02:03:40,456 INFO - Log1 - info msg\n",
      "2023-04-07 02:03:40,457 WARNING - Log1 - warning msg\n",
      "Handler 2 :: WARNING - Log1 - warning msg\n",
      "2023-04-07 02:03:40,458 ERROR - Log1 - error msg\n",
      "Handler 2 :: ERROR - Log1 - error msg\n"
     ]
    }
   ],
   "source": [
    "log.addHandler(stream_handler2)\n",
    "\n",
    "log.setLevel(logging.DEBUG)\n",
    "log.debug(\"debug msg\")\n",
    "log.info(\"info msg\")\n",
    "log.warning(\"warning msg\")\n",
    "log.error(\"error msg\")"
   ]
  }
 ],
 "metadata": {
  "kernelspec": {
   "display_name": "Python 3",
   "language": "python",
   "name": "python3"
  },
  "language_info": {
   "codemirror_mode": {
    "name": "ipython",
    "version": 3
   },
   "file_extension": ".py",
   "mimetype": "text/x-python",
   "name": "python",
   "nbconvert_exporter": "python",
   "pygments_lexer": "ipython3",
   "version": "3.10.8"
  }
 },
 "nbformat": 4,
 "nbformat_minor": 5
}
